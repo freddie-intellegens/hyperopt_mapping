{
 "cells": [
  {
   "cell_type": "code",
   "execution_count": 2,
   "metadata": {},
   "outputs": [],
   "source": [
    "import numpy as np\n",
    "import pandas as pd\n",
    "from ipywidgets import interact, SliderStyle\n",
    "import matplotlib.pyplot as plt"
   ]
  },
  {
   "cell_type": "code",
   "execution_count": 3,
   "metadata": {},
   "outputs": [
    {
     "data": {
      "text/html": [
       "<div>\n",
       "<style scoped>\n",
       "    .dataframe tbody tr th:only-of-type {\n",
       "        vertical-align: middle;\n",
       "    }\n",
       "\n",
       "    .dataframe tbody tr th {\n",
       "        vertical-align: top;\n",
       "    }\n",
       "\n",
       "    .dataframe thead th {\n",
       "        text-align: right;\n",
       "    }\n",
       "</style>\n",
       "<table border=\"1\" class=\"dataframe\">\n",
       "  <thead>\n",
       "    <tr style=\"text-align: right;\">\n",
       "      <th></th>\n",
       "      <th>validationMetric</th>\n",
       "      <th>targetFunction</th>\n",
       "      <th>memory</th>\n",
       "      <th>columnAnalytics</th>\n",
       "      <th>parameters</th>\n",
       "    </tr>\n",
       "  </thead>\n",
       "  <tbody>\n",
       "    <tr>\n",
       "      <th>0</th>\n",
       "      <td>0.041302</td>\n",
       "      <td>0.041302</td>\n",
       "      <td>12288</td>\n",
       "      <td>[{\"name\": \"x\", \"numValidationSamples\": null, \"...</td>\n",
       "      <td>{'network': {'data for intercept': 8, 'gradien...</td>\n",
       "    </tr>\n",
       "    <tr>\n",
       "      <th>1</th>\n",
       "      <td>0.280189</td>\n",
       "      <td>0.280189</td>\n",
       "      <td>12288</td>\n",
       "      <td>[{\"name\": \"x\", \"numValidationSamples\": null, \"...</td>\n",
       "      <td>{'network': {'data for intercept': 13, 'gradie...</td>\n",
       "    </tr>\n",
       "    <tr>\n",
       "      <th>2</th>\n",
       "      <td>0.422912</td>\n",
       "      <td>0.422912</td>\n",
       "      <td>12288</td>\n",
       "      <td>[{\"name\": \"x\", \"numValidationSamples\": null, \"...</td>\n",
       "      <td>{'network': {'data for intercept': 3, 'gradien...</td>\n",
       "    </tr>\n",
       "    <tr>\n",
       "      <th>3</th>\n",
       "      <td>0.222123</td>\n",
       "      <td>0.222123</td>\n",
       "      <td>12288</td>\n",
       "      <td>[{\"name\": \"x\", \"numValidationSamples\": null, \"...</td>\n",
       "      <td>{'network': {'data for intercept': 3, 'gradien...</td>\n",
       "    </tr>\n",
       "    <tr>\n",
       "      <th>4</th>\n",
       "      <td>0.271182</td>\n",
       "      <td>0.271182</td>\n",
       "      <td>12288</td>\n",
       "      <td>[{\"name\": \"x\", \"numValidationSamples\": null, \"...</td>\n",
       "      <td>{'network': {'data for intercept': 41, 'gradie...</td>\n",
       "    </tr>\n",
       "  </tbody>\n",
       "</table>\n",
       "</div>"
      ],
      "text/plain": [
       "   validationMetric  targetFunction  memory  \\\n",
       "0          0.041302        0.041302   12288   \n",
       "1          0.280189        0.280189   12288   \n",
       "2          0.422912        0.422912   12288   \n",
       "3          0.222123        0.222123   12288   \n",
       "4          0.271182        0.271182   12288   \n",
       "\n",
       "                                     columnAnalytics  \\\n",
       "0  [{\"name\": \"x\", \"numValidationSamples\": null, \"...   \n",
       "1  [{\"name\": \"x\", \"numValidationSamples\": null, \"...   \n",
       "2  [{\"name\": \"x\", \"numValidationSamples\": null, \"...   \n",
       "3  [{\"name\": \"x\", \"numValidationSamples\": null, \"...   \n",
       "4  [{\"name\": \"x\", \"numValidationSamples\": null, \"...   \n",
       "\n",
       "                                          parameters  \n",
       "0  {'network': {'data for intercept': 8, 'gradien...  \n",
       "1  {'network': {'data for intercept': 13, 'gradie...  \n",
       "2  {'network': {'data for intercept': 3, 'gradien...  \n",
       "3  {'network': {'data for intercept': 3, 'gradien...  \n",
       "4  {'network': {'data for intercept': 41, 'gradie...  "
      ]
     },
     "execution_count": 3,
     "metadata": {},
     "output_type": "execute_result"
    }
   ],
   "source": [
    "df_898 = pd.read_csv(\"hyperopt_898.csv\")\n",
    "df_898.head()"
   ]
  },
  {
   "cell_type": "code",
   "execution_count": 4,
   "metadata": {},
   "outputs": [],
   "source": [
    "def plot(a):\n",
    "    x = np.linspace(0,100,1000)\n",
    "    y = a*x\n",
    "    plt.plot(x,y)\n",
    "    plt.ylim(0,1000)\n",
    "    plt.xlim(0,100)\n",
    "    plt.show()"
   ]
  },
  {
   "cell_type": "code",
   "execution_count": 5,
   "metadata": {},
   "outputs": [
    {
     "data": {
      "application/vnd.jupyter.widget-view+json": {
       "model_id": "a95bd2cebe4b45abae8fcb3140e464b0",
       "version_major": 2,
       "version_minor": 0
      },
      "text/plain": [
       "interactive(children=(IntSlider(value=3, description='a', max=5, min=1), Output()), _dom_classes=('widget-inte…"
      ]
     },
     "metadata": {},
     "output_type": "display_data"
    },
    {
     "data": {
      "text/plain": [
       "<function __main__.plot(a)>"
      ]
     },
     "execution_count": 5,
     "metadata": {},
     "output_type": "execute_result"
    }
   ],
   "source": [
    "interact(plot, a=(1,5))"
   ]
  },
  {
   "cell_type": "code",
   "execution_count": null,
   "metadata": {},
   "outputs": [],
   "source": []
  }
 ],
 "metadata": {
  "kernelspec": {
   "display_name": "Python 3.9.10 ('base')",
   "language": "python",
   "name": "python3"
  },
  "language_info": {
   "codemirror_mode": {
    "name": "ipython",
    "version": 3
   },
   "file_extension": ".py",
   "mimetype": "text/x-python",
   "name": "python",
   "nbconvert_exporter": "python",
   "pygments_lexer": "ipython3",
   "version": "3.9.10"
  },
  "orig_nbformat": 4,
  "vscode": {
   "interpreter": {
    "hash": "1374a481c4a5dbb781de8599f11b8180f30044e1233bc62b8e4fe3184c3c7781"
   }
  }
 },
 "nbformat": 4,
 "nbformat_minor": 2
}
