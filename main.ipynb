{
 "cells": [
  {
   "cell_type": "code",
   "execution_count": 3,
   "metadata": {},
   "outputs": [],
   "source": [
    "import numpy as np\n",
    "import pandas as pd"
   ]
  },
  {
   "cell_type": "code",
   "execution_count": 8,
   "metadata": {},
   "outputs": [],
   "source": [
    "x = [np.random.random() for _ in range(1000)]\n",
    "y1 = [np.sin(i*100) for i in x]\n",
    "y2 = [np.sin(i*400) for i in x]"
   ]
  },
  {
   "cell_type": "code",
   "execution_count": 9,
   "metadata": {},
   "outputs": [],
   "source": [
    "pd.DataFrame({\"x\": x, \"y1\": y1, \"y2\": y2}).to_csv(\"data/all.csv\")\n",
    "pd.DataFrame({\"x\": x, \"y1\": y1}).to_csv(\"data/y1.csv\")\n",
    "pd.DataFrame({\"x\": x, \"y2\": y2}).to_csv(\"data/y2.csv\")"
   ]
  },
  {
   "cell_type": "code",
   "execution_count": 1,
   "metadata": {},
   "outputs": [],
   "source": [
    "from ipywidgets import interact, SliderStyle\n",
    "import matplotlib.pyplot as plt"
   ]
  },
  {
   "cell_type": "code",
   "execution_count": 16,
   "metadata": {},
   "outputs": [
    {
     "data": {
      "application/vnd.jupyter.widget-view+json": {
       "model_id": "2db6d7f4ac494451b2b406a4d0781d7f",
       "version_major": 2,
       "version_minor": 0
      },
      "text/plain": [
       "interactive(children=(IntSlider(value=5, description='a', max=10), Output()), _dom_classes=('widget-interact',…"
      ]
     },
     "metadata": {},
     "output_type": "display_data"
    }
   ],
   "source": [
    "@interact(a=(0,10))\n",
    "def plot(a):\n",
    "    x = np.linspace(0,100,1000)\n",
    "    y = a*x\n",
    "    plt.plot(x,y)\n",
    "    plt.ylim(0,1000)\n",
    "    plt.xlim(0,100)\n",
    "    plt.show()"
   ]
  },
  {
   "cell_type": "code",
   "execution_count": null,
   "metadata": {},
   "outputs": [],
   "source": []
  }
 ],
 "metadata": {
  "kernelspec": {
   "display_name": "Python 3.9.10 ('base')",
   "language": "python",
   "name": "python3"
  },
  "language_info": {
   "codemirror_mode": {
    "name": "ipython",
    "version": 3
   },
   "file_extension": ".py",
   "mimetype": "text/x-python",
   "name": "python",
   "nbconvert_exporter": "python",
   "pygments_lexer": "ipython3",
   "version": "3.9.10"
  },
  "orig_nbformat": 4,
  "vscode": {
   "interpreter": {
    "hash": "1374a481c4a5dbb781de8599f11b8180f30044e1233bc62b8e4fe3184c3c7781"
   }
  }
 },
 "nbformat": 4,
 "nbformat_minor": 2
}
